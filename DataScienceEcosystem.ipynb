{
 "cells": [
  {
   "cell_type": "markdown",
   "id": "6e870e85-04bd-4e42-956c-1df1d0ce9d0d",
   "metadata": {},
   "source": [
    "# Data Science Tools and Ecosystem\n"
   ]
  },
  {
   "cell_type": "markdown",
   "id": "f5064115-f766-4589-a866-c1f3231c7bba",
   "metadata": {},
   "source": [
    "In this notebook, Data Science Tools and Ecosystem are summarized."
   ]
  },
  {
   "cell_type": "markdown",
   "id": "e5436b98-7f53-4a61-a284-6bd7d386d41a",
   "metadata": {},
   "source": [
    "Some of the popular languages that Data Scientists use are:\n",
    "\n",
    "1.Python\n",
    "\n",
    "2.R\n",
    "\n",
    "3.Julia\n",
    "\n",
    "Some of the commonly used libraries used by Data Scientists include:\n",
    "\n",
    "1.Pandas\n",
    "\n",
    "2.Matplotlib\n",
    "\n",
    "3.Numpy\n"
   ]
  },
  {
   "cell_type": "markdown",
   "id": "e58c2154-8123-4706-bb36-4a8d015849ba",
   "metadata": {},
   "source": [
    " | Data Science Tools |\n",
    "| ------------------ |\n",
    "| Spyder | y| Weka   | \n",
    "| VsCode |-843 |"
   ]
  },
  {
   "cell_type": "markdown",
   "id": "c8112bd4-a277-4839-b7d6-d5052e50bbef",
   "metadata": {},
   "source": [
    "**Objectives:**\n",
    "<ul> \n",
    "    <li>Python</li>\n",
    "    <li>R</li>\n",
    "    <li>C</li>\n",
    "    <li>Julia</li>\n",
    "    <li>Scala</li>\n",
    "</ul>"
   ]
  },
  {
   "cell_type": "markdown",
   "id": "a48c1222-2cd5-4f79-9069-dda1c074a972",
   "metadata": {},
   "source": [
    "### Below are a few examples of evaluating arithmetic expressions in Python"
   ]
  },
  {
   "cell_type": "code",
   "execution_count": 1,
   "id": "b9e677c1-e113-440e-85d5-05db4804706d",
   "metadata": {},
   "outputs": [
    {
     "data": {
      "text/plain": [
       "17"
      ]
     },
     "execution_count": 1,
     "metadata": {},
     "output_type": "execute_result"
    }
   ],
   "source": [
    "# This a simple arithmetic expression to mutiply then add integers.\n",
    "\n",
    "(3*4)+5"
   ]
  },
  {
   "cell_type": "code",
   "execution_count": 2,
   "id": "fabd2045-6a43-40bb-94c0-154492fc8da0",
   "metadata": {},
   "outputs": [
    {
     "data": {
      "text/plain": [
       "3.3333333333333335"
      ]
     },
     "execution_count": 2,
     "metadata": {},
     "output_type": "execute_result"
    }
   ],
   "source": [
    "# This will convert 200 minutes to hours by diving by 60\n",
    "\n",
    "200/60"
   ]
  },
  {
   "cell_type": "markdown",
   "id": "eb4559c6-8ee5-4bc1-9af8-3189c9344c78",
   "metadata": {},
   "source": [
    "## Author\n",
    "\n",
    "Omar Bilgrami"
   ]
  },
  {
   "cell_type": "code",
   "execution_count": null,
   "id": "df221686-db3d-4211-b875-d689093efd77",
   "metadata": {},
   "outputs": [],
   "source": []
  }
 ],
 "metadata": {
  "kernelspec": {
   "display_name": "Python 3 (ipykernel)",
   "language": "python",
   "name": "python3"
  },
  "language_info": {
   "codemirror_mode": {
    "name": "ipython",
    "version": 3
   },
   "file_extension": ".py",
   "mimetype": "text/x-python",
   "name": "python",
   "nbconvert_exporter": "python",
   "pygments_lexer": "ipython3",
   "version": "3.11.4"
  }
 },
 "nbformat": 4,
 "nbformat_minor": 5
}
